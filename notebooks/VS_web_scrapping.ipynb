{
 "cells": [
  {
   "cell_type": "markdown",
   "metadata": {},
   "source": [
    "# Librerias"
   ]
  },
  {
   "cell_type": "code",
   "execution_count": null,
   "metadata": {},
   "outputs": [],
   "source": [
    "import requests\n",
    "from bs4 import BeautifulSoup\n",
    "from langchain.vectorstores import Chroma\n",
    "from langchain.embeddings import HuggingFaceEmbeddings\n",
    "from langchain.text_splitter import RecursiveCharacterTextSplitter\n",
    "from langchain_ollama.llms import OllamaLLM\n",
    "from langchain_core.output_parsers import StrOutputParser\n",
    "from langchain.prompts import ChatPromptTemplate\n",
    "from langchain_core.runnables import RunnablePassthrough"
   ]
  },
  {
   "cell_type": "markdown",
   "metadata": {},
   "source": [
    "# Web scrapping"
   ]
  },
  {
   "cell_type": "code",
   "execution_count": null,
   "metadata": {},
   "outputs": [],
   "source": [
    "# Extrae el texto de una página web utilizando BeautifulSoup.\n",
    "# URL de la página web que deseas procesar\n",
    "url = \"https://www.bbc.com/news/articles/c047r4kreg3o\"  # Cambia esta URL por la que quieras\n",
    "\n",
    "response = requests.get(url)\n",
    "soup = BeautifulSoup(response.content, \"html.parser\")\n",
    "\n",
    "# Extraer todo el texto de los elementos <p>\n",
    "paragraphs = soup.find_all('p')\n",
    "web_content = \"\\n\".join([p.get_text() for p in paragraphs])  # Concatenar todos los textos de los párrafos"
   ]
  },
  {
   "cell_type": "markdown",
   "metadata": {},
   "source": [
    "# Procesado de datos en vectores"
   ]
  },
  {
   "cell_type": "code",
   "execution_count": null,
   "metadata": {},
   "outputs": [],
   "source": [
    "\"\"\"\n",
    "Procesa el contenido de la página web, lo divide en fragmentos y crea un vector store utilizando Chroma.\n",
    "\"\"\"\n",
    "\n",
    "# Dividir el texto en fragmentos manejables\n",
    "text_splitter = RecursiveCharacterTextSplitter(chunk_size=500, chunk_overlap=50)\n",
    "split_docs = text_splitter.split_text(web_content)\n",
    "\n",
    "# Crear embeddings\n",
    "embeddings = HuggingFaceEmbeddings(model_name='sentence-transformers/all-mpnet-base-v2')\n",
    "\n",
    "from langchain_chroma import Chroma\n",
    "\n",
    "vector_store = Chroma.from_texts(\n",
    "    texts=split_docs,\n",
    "    collection_name=\"some_facts\",\n",
    "    embedding=embeddings,\n",
    "    persist_directory=\"./chroma_some_facts\",\n",
    ")\n",
    "\n",
    "retriever = vector_store.as_retriever()"
   ]
  },
  {
   "cell_type": "markdown",
   "metadata": {},
   "source": [
    "# Modelo de lenguaje (LLM)"
   ]
  },
  {
   "cell_type": "code",
   "execution_count": 10,
   "metadata": {},
   "outputs": [],
   "source": [
    "\"\"\"\n",
    "Realiza una consulta en el vector store y utiliza un modelo LLM para generar una respuesta.\n",
    "\"\"\"\n",
    "\n",
    "# Prompt\n",
    "template = \"\"\"Answer based on the given context:\n",
    "{context}\n",
    "\n",
    "Question: {question}\n",
    "Anwers: in English.\n",
    "\"\"\"\n",
    "prompt = ChatPromptTemplate.from_template(template)\n",
    "\n",
    "# Crear un LLM de OpenAI\n",
    "llm = OllamaLLM(model='llama3.2')\n",
    "\n",
    "# Chain\n",
    "chain = (\n",
    "    {\"context\": retriever, \"question\": RunnablePassthrough()}\n",
    "    | prompt\n",
    "    | llm\n",
    "    | StrOutputParser()\n",
    ")\n",
    "\n"
   ]
  },
  {
   "cell_type": "markdown",
   "metadata": {},
   "source": [
    "# Main Code"
   ]
  },
  {
   "cell_type": "code",
   "execution_count": 12,
   "metadata": {},
   "outputs": [
    {
     "name": "stdout",
     "output_type": "stream",
     "text": [
      "Pregunta: What happended to Sarkozy \n",
      "Consultando el sistema RAG...\n",
      "Respuesta:\n",
      "According to the provided context, here are the details about what happened to Sarkozy:\n",
      "\n",
      "* He was originally sentenced to 3 years in jail in 2021, but 2 of those years were suspended and the third converted to electronic monitoring instead of prison.\n",
      "* He was convicted of trying to bribe a judge in 2014 for suggesting he could secure a prestigious job in return for information about a separate case.\n",
      "* The conviction was upheld by France's highest court, the Cour de Cassation, which means Sarkozy must now wear an electronic monitoring bracelet for a year as part of his sentence.\n",
      "* His planned appeal to the European Court of Human Rights will not delay the verdict from being carried out.\n"
     ]
    }
   ],
   "source": [
    "# Ejemplo de uso\n",
    "if __name__ == \"__main__\":\n",
    "    \n",
    "    # Realizar una consulta\n",
    "    pregunta = \"What happended to Sarkozy?\"\n",
    "    print(f'Pregunta: {pregunta}')\n",
    "    print(\"Consultando el sistema RAG...\")\n",
    "    # Ejecutar la consulta\n",
    "\n",
    "    print(\"Respuesta:\")\n",
    "    print(chain.invoke(pregunta))"
   ]
  }
 ],
 "metadata": {
  "kernelspec": {
   "display_name": "rag",
   "language": "python",
   "name": "python3"
  },
  "language_info": {
   "codemirror_mode": {
    "name": "ipython",
    "version": 3
   },
   "file_extension": ".py",
   "mimetype": "text/x-python",
   "name": "python",
   "nbconvert_exporter": "python",
   "pygments_lexer": "ipython3",
   "version": "3.13.1"
  }
 },
 "nbformat": 4,
 "nbformat_minor": 2
}
