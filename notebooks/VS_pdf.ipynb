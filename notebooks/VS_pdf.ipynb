{
 "cells": [
  {
   "cell_type": "markdown",
   "metadata": {},
   "source": [
    "# Librerias"
   ]
  },
  {
   "cell_type": "code",
   "execution_count": null,
   "metadata": {},
   "outputs": [],
   "source": [
    "from langchain.embeddings import HuggingFaceEmbeddings\n",
    "from langchain.document_loaders import PyPDFLoader\n",
    "from langchain.text_splitter import RecursiveCharacterTextSplitter\n",
    "from langchain_ollama.llms import OllamaLLM\n",
    "from langchain_chroma import Chroma\n",
    "from langchain.prompts import ChatPromptTemplate\n",
    "from langchain_core.runnables import RunnablePassthrough\n",
    "from langchain_core.output_parsers import StrOutputParser\n",
    "from langchain.schema import Document"
   ]
  },
  {
   "cell_type": "markdown",
   "metadata": {},
   "source": [
    "# Lectura de pdfs"
   ]
  },
  {
   "cell_type": "code",
   "execution_count": null,
   "metadata": {},
   "outputs": [],
   "source": [
    "# Función para cargar y procesar PDFs\n",
    "\"\"\"\n",
    "Procesa una lista de PDFs, los divide en fragmentos y crea un vector store con FAISS.\n",
    "\"\"\"\n",
    "# Cargar documentos desde los PDFs\n",
    "\n",
    "pdf_paths = ['naturaleza-yo.pdf']\n",
    "documents = []\n",
    "\n",
    "for pdf_path in pdf_paths:\n",
    "    loader = PyPDFLoader(pdf_path)\n",
    "    documents.extend(loader.load())"
   ]
  },
  {
   "cell_type": "markdown",
   "metadata": {},
   "source": [
    "# Procesado de datos en vectores"
   ]
  },
  {
   "cell_type": "code",
   "execution_count": null,
   "metadata": {},
   "outputs": [],
   "source": [
    "# Dividir texto en fragmentos manejables\n",
    "text_splitter = RecursiveCharacterTextSplitter(chunk_size=500, chunk_overlap=50)\n",
    "split_docs = text_splitter.split_documents(documents)\n",
    "\n",
    "# Crear embeddings\n",
    "embeddings = HuggingFaceEmbeddings(model_name=\"sentence-transformers/LaBSE\")\n",
    "\n",
    "# Extraer texto de los documentos divididos\n",
    "texts = [doc.page_content for doc in split_docs]\n",
    "\n",
    "# Crear el vector store\n",
    "vector_store = Chroma.from_texts(\n",
    "    texts=texts,\n",
    "    embedding=embeddings,\n",
    "    persist_directory=\"./chroma_pdf_facts\",\n",
    ")\n",
    "\n",
    "retriever = vector_store.as_retriever()"
   ]
  },
  {
   "cell_type": "markdown",
   "metadata": {},
   "source": [
    "# Modelo de lenguaje (LLM)"
   ]
  },
  {
   "cell_type": "code",
   "execution_count": 4,
   "metadata": {},
   "outputs": [],
   "source": [
    "\"\"\"\n",
    "Realiza una consulta en el vector store y utiliza un modelo LLM para generar una respuesta.\n",
    "\"\"\"\n",
    "# Prompt\n",
    "template = \"\"\"Responde en base al siguiente contexto:\n",
    "{context}\n",
    "\n",
    "Pregunta: {question}\n",
    "Respuesta: en español.\n",
    "\"\"\"\n",
    "prompt = ChatPromptTemplate.from_template(template)\n",
    "\n",
    "# Crear un LLM de OpenAI\n",
    "llm = OllamaLLM(model='llama3.2')\n",
    "\n",
    "def retrieve_context(query):\n",
    "    # Recuperar fragmentos relevantes del vector store\n",
    "    results = retriever.get_relevant_documents(query)\n",
    "    # Combinar los textos de los documentos recuperados\n",
    "    context = \"\\n\".join([doc.page_content for doc in results])\n",
    "    return context\n",
    "\n",
    "# Chain\n",
    "chain = (\n",
    "    {\"question\": RunnablePassthrough()}\n",
    "    | {\"context\": retrieve_context} \n",
    "    | prompt\n",
    "    | llm\n",
    "    | StrOutputParser()\n",
    ")\n"
   ]
  },
  {
   "cell_type": "markdown",
   "metadata": {},
   "source": [
    "# Main Code"
   ]
  },
  {
   "cell_type": "code",
   "execution_count": 6,
   "metadata": {},
   "outputs": [
    {
     "name": "stdout",
     "output_type": "stream",
     "text": [
      "Pregunta: Qué les pasó a Nacho y a María?\n",
      "Consultando el sistema RAG...\n",
      "Respuesta:\n",
      "Nacho y María sufrieron un diluvio. La lluvia era muy fuerte y se colaba por las paredes de su casa de palma de coco, lo que hizo que el candil que había encendido María se moviera hacia todos lados. El relámpago y la débil luz del candil dejaban ver en la esquina de la casa; el rostro asustado de Manuel, el hijo de María y Nacho, quien tenía nueve años.\n"
     ]
    }
   ],
   "source": [
    "# Ejemplo de uso\n",
    "if __name__ == \"__main__\":\n",
    "    \n",
    "    # Realizar una consulta\n",
    "    pregunta = \"Qué les pasó a Nacho y a María?\"\n",
    "    print(f'Pregunta: {pregunta}')\n",
    "    print(\"Consultando el sistema RAG...\")\n",
    "    # Ejecutar la consulta\n",
    "\n",
    "    print(\"Respuesta:\")\n",
    "    print(chain.invoke(pregunta))\n"
   ]
  }
 ],
 "metadata": {
  "kernelspec": {
   "display_name": "rag",
   "language": "python",
   "name": "python3"
  },
  "language_info": {
   "codemirror_mode": {
    "name": "ipython",
    "version": 3
   },
   "file_extension": ".py",
   "mimetype": "text/x-python",
   "name": "python",
   "nbconvert_exporter": "python",
   "pygments_lexer": "ipython3",
   "version": "3.13.1"
  }
 },
 "nbformat": 4,
 "nbformat_minor": 2
}
