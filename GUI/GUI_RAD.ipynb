{
 "cells": [
  {
   "cell_type": "code",
   "execution_count": null,
   "metadata": {},
   "outputs": [
    {
     "name": "stdout",
     "output_type": "stream",
     "text": [
      "* Running on local URL:  http://127.0.0.1:7861\n",
      "\n",
      "To create a public link, set `share=True` in `launch()`.\n"
     ]
    },
    {
     "data": {
      "text/html": [
       "<div><iframe src=\"http://127.0.0.1:7861/\" width=\"100%\" height=\"500\" allow=\"autoplay; camera; microphone; clipboard-read; clipboard-write;\" frameborder=\"0\" allowfullscreen></iframe></div>"
      ],
      "text/plain": [
       "<IPython.core.display.HTML object>"
      ]
     },
     "metadata": {},
     "output_type": "display_data"
    },
    {
     "name": "stderr",
     "output_type": "stream",
     "text": [
      "/tmp/ipykernel_39599/1308332642.py:52: LangChainDeprecationWarning: The method `BaseRetriever.get_relevant_documents` was deprecated in langchain-core 0.1.46 and will be removed in 1.0. Use :meth:`~invoke` instead.\n",
      "  results = retriever.get_relevant_documents(question)\n",
      "/tmp/ipykernel_39599/1308332642.py:66: LangChainDeprecationWarning: The method `BaseLLM.__call__` was deprecated in langchain-core 0.1.7 and will be removed in 1.0. Use :meth:`~invoke` instead.\n",
      "  response = llm(final_prompt)\n"
     ]
    }
   ],
   "source": [
    "import gradio as gr\n",
    "from langchain.document_loaders import PyPDFLoader\n",
    "from langchain.text_splitter import RecursiveCharacterTextSplitter\n",
    "from langchain.embeddings import HuggingFaceEmbeddings\n",
    "from langchain.vectorstores import Chroma\n",
    "from langchain.prompts import ChatPromptTemplate\n",
    "from langchain.llms import Ollama\n",
    "\n",
    "# Configuración global del sistema\n",
    "embeddings = HuggingFaceEmbeddings(model_name=\"sentence-transformers/LaBSE\")\n",
    "llm = Ollama(model=\"llama3.2\")\n",
    "\n",
    "# Variables para almacenamiento persistente\n",
    "vector_store = None\n",
    "retriever = None\n",
    "\n",
    "def process_pdf(pdf_file):\n",
    "    \"\"\"\n",
    "    Procesa un archivo PDF y crea un vector store basado en los embeddings.\n",
    "    \"\"\"\n",
    "    global vector_store, retriever\n",
    "\n",
    "    # Cargar el PDF\n",
    "    loader = PyPDFLoader(pdf_file.name)\n",
    "    documents = loader.load()\n",
    "\n",
    "    # Dividir texto en fragmentos\n",
    "    text_splitter = RecursiveCharacterTextSplitter(chunk_size=500, chunk_overlap=50)\n",
    "    split_docs = text_splitter.split_documents(documents)\n",
    "\n",
    "    # Crear embeddings para el vector store\n",
    "    texts = [doc.page_content for doc in split_docs]\n",
    "    vector_store = Chroma.from_texts(\n",
    "        texts=texts,\n",
    "        embedding=embeddings,\n",
    "        persist_directory=\"./chroma_pdf_facts\",\n",
    "    )\n",
    "\n",
    "    # Crear un retriever\n",
    "    retriever = vector_store.as_retriever()\n",
    "\n",
    "    return \"PDF procesado exitosamente. ¡Ahora puedes hacer preguntas!\"\n",
    "\n",
    "def answer_question(question):\n",
    "    \"\"\"\n",
    "    Responde una pregunta utilizando el contenido del vector store.\n",
    "    \"\"\"\n",
    "    if not retriever:\n",
    "        return \"Por favor, carga primero un archivo PDF.\"\n",
    "\n",
    "    # Recuperar contexto relevante\n",
    "    results = retriever.get_relevant_documents(question)\n",
    "    context = \"\\n\".join([doc.page_content for doc in results])\n",
    "\n",
    "    # Crear el prompt\n",
    "    template = \"\"\"Responde en base al siguiente contexto:\n",
    "    {context}\n",
    "\n",
    "    Pregunta: {question}\n",
    "    Respuesta: en español.\n",
    "    \"\"\"\n",
    "    prompt = ChatPromptTemplate.from_template(template)\n",
    "    final_prompt = prompt.format(context=context, question=question)\n",
    "\n",
    "    # Obtener la respuesta del modelo\n",
    "    response = llm(final_prompt)\n",
    "    return response\n",
    "\n",
    "# Crear la interfaz de Gradio\n",
    "with gr.Blocks() as gui:\n",
    "    gr.Markdown(\"# 📄 PDF Question Answering System\")\n",
    "    gr.Markdown(\"Carga un archivo PDF, realiza preguntas y obtén respuestas en español basadas en el contenido del documento.\")\n",
    "\n",
    "    with gr.Row():\n",
    "        pdf_input = gr.File(label=\"Sube tu archivo PDF\", type=\"filepath\")\n",
    "        pdf_status = gr.Label(label=\"Estado del PDF\")\n",
    "\n",
    "    process_button = gr.Button(\"Procesar PDF\")\n",
    "    process_button.click(process_pdf, inputs=pdf_input, outputs=pdf_status)\n",
    "\n",
    "    with gr.Row():\n",
    "        question_input = gr.Textbox(label=\"Pregunta\", placeholder=\"Escribe tu pregunta aquí...\")\n",
    "        answer_output = gr.Textbox(label=\"Respuesta\")\n",
    "\n",
    "    ask_button = gr.Button(\"Responder\")\n",
    "    ask_button.click(answer_question, inputs=question_input, outputs=answer_output)\n",
    "\n",
    "# Ejecutar la aplicación\n",
    "if __name__ == \"__main__\":\n",
    "    gui.launch()\n"
   ]
  }
 ],
 "metadata": {
  "kernelspec": {
   "display_name": "rag",
   "language": "python",
   "name": "python3"
  },
  "language_info": {
   "codemirror_mode": {
    "name": "ipython",
    "version": 3
   },
   "file_extension": ".py",
   "mimetype": "text/x-python",
   "name": "python",
   "nbconvert_exporter": "python",
   "pygments_lexer": "ipython3",
   "version": "3.13.1"
  }
 },
 "nbformat": 4,
 "nbformat_minor": 2
}
